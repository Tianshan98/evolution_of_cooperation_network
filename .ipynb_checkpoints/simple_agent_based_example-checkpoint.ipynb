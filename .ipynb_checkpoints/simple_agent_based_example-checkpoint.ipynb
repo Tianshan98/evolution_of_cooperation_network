{
 "cells": [
  {
   "cell_type": "markdown",
   "metadata": {},
   "source": [
    "Practice example from https://github.com/Limor-Raviv/Tutorial_Agent_Based_Models/blob/master/Part%202%20-%20A%20Simple%20Agent%20Based%20Model%20in%20Python.ipynb"
   ]
  },
  {
   "cell_type": "code",
   "execution_count": 98,
   "metadata": {},
   "outputs": [],
   "source": [
    "# Setting the parameters\n",
    "\n",
    "vowels = ['a', 'i']\n",
    "\n",
    "personalities = ['F', 'S'] # F= Flexible, S=Stubborn"
   ]
  },
  {
   "cell_type": "code",
   "execution_count": 99,
   "metadata": {},
   "outputs": [
    {
     "name": "stdout",
     "output_type": "stream",
     "text": [
      "['i', 'F']\n"
     ]
    }
   ],
   "source": [
    "def make_agent(vowel, personality):\n",
    "    return [vowel, personality]\n",
    "\n",
    "# For examaple, we can create a flexible agent with the vowel 'i' using our function\n",
    "\n",
    "agent_one = make_agent(vowels[1], personalities[0])\n",
    "print(agent_one)"
   ]
  },
  {
   "cell_type": "code",
   "execution_count": 101,
   "metadata": {},
   "outputs": [
    {
     "name": "stdout",
     "output_type": "stream",
     "text": [
      "[['i', 'F'], ['i', 'F'], ['i', 'F'], ['i', 'F'], ['i', 'F']]\n"
     ]
    }
   ],
   "source": [
    "\n",
    "# Create a function that generates a population of N identical agents with given parameters\n",
    "\n",
    "def make_population_identical(N):\n",
    "    \n",
    "    population = []\n",
    "    \n",
    "    for i in range(N):\n",
    "        \n",
    "        agent = make_agent(vowels[1], personalities[0])\n",
    "        \n",
    "        population.append(agent)\n",
    "\n",
    "    return population\n",
    "\n",
    "\n",
    "# Call the function to make a population of 5 identical agents\n",
    "\n",
    "population_test = make_population_identical(5)\n",
    "print(population_test)"
   ]
  },
  {
   "cell_type": "code",
   "execution_count": 102,
   "metadata": {},
   "outputs": [],
   "source": [
    "\n",
    "# Create a function that generates of population of N agents with randomly selected parameters from each list\n",
    "# using \"random.choice()\"\n",
    "\n",
    "import random\n",
    "\n",
    "def make_population_random(N):\n",
    "    \n",
    "    population = []\n",
    "    \n",
    "    for i in range(N):\n",
    "        \n",
    "        v = random.choice(vowels)\n",
    "        \n",
    "        p = random.choice(personalities)\n",
    "        \n",
    "        agent = make_agent(v, p)\n",
    "        \n",
    "        population.append(agent)\n",
    "\n",
    "    return population"
   ]
  },
  {
   "cell_type": "code",
   "execution_count": 103,
   "metadata": {},
   "outputs": [
    {
     "name": "stdout",
     "output_type": "stream",
     "text": [
      "[['a', 'S'], ['i', 'F'], ['a', 'F'], ['a', 'S'], ['a', 'S']]\n"
     ]
    }
   ],
   "source": [
    "# Call the function to make a population of 5 random agents\n",
    "population = make_population_random(5)\n",
    "print(population)"
   ]
  },
  {
   "cell_type": "code",
   "execution_count": 104,
   "metadata": {},
   "outputs": [],
   "source": [
    "# You can achieve the same goal using \"random.int()\" and using the index of the lists of possible parameters\n",
    "\n",
    "def make_population(N):\n",
    "    \n",
    "    population = []\n",
    "    \n",
    "    for i in range(N):\n",
    "        \n",
    "        v = random.randint(0,1)\n",
    "        \n",
    "        p = random.randint(0,1)\n",
    "        \n",
    "        agent = make_agent(vowels[v], personalities[p])\n",
    "        \n",
    "        population.append(agent)\n",
    "\n",
    "    return population\n",
    "    "
   ]
  },
  {
   "cell_type": "code",
   "execution_count": 105,
   "metadata": {},
   "outputs": [],
   "source": [
    "# Create a function that calculates the proportion of agents with the variant 'a' in the population\n",
    "\n",
    "def count(population):\n",
    "    t = 0. # must be a float!     \n",
    "    for agent in population:\n",
    "        if agent[0] == 'a':\n",
    "            t += 1            # The syntax =+ Adds 1 to t (or: t = t + 1)\n",
    "    return t / len(population)"
   ]
  },
  {
   "cell_type": "code",
   "execution_count": 106,
   "metadata": {},
   "outputs": [],
   "source": [
    "from numpy.random import choice\n",
    "\n",
    "def choose_pair(population):\n",
    "    i = random.randint(0, len(population) - 1) # phyton counts from 0, so pop(8) is an error\n",
    "    j = random.randint(0, len(population) - 1)\n",
    "    \n",
    "    while i == j:\n",
    "        j = random.randint(0, len(population) - 1) # make sure the same agent is not selected twice\n",
    "        \n",
    "    return population[i], population[j]\n"
   ]
  },
  {
   "cell_type": "code",
   "execution_count": 107,
   "metadata": {},
   "outputs": [],
   "source": [
    "# Create a function that only updates agents using \"pass\" (which means do nothing in Python)\n",
    "\n",
    "def interact(listener,producer): \n",
    "    \n",
    "    if listener[0] == producer[0]:\n",
    "        pass   # do nothing\n",
    "    else:\n",
    "        if listener[1]=='S':\n",
    "            pass\n",
    "        else:\n",
    "            listener[0]=deepcopy(producer[0])"
   ]
  },
  {
   "cell_type": "code",
   "execution_count": 110,
   "metadata": {},
   "outputs": [],
   "source": [
    "# Create a function that simulates a community of size N interacting randomly for K times       \n",
    "\n",
    "def simulate(n, k):\n",
    "    \n",
    "    population = make_population(n)\n",
    "    \n",
    "    # print \"Initial Population:\", population\n",
    "    \n",
    "    proportion = [] # make an empty list to keep track of the porportions after every interaction\n",
    "    \n",
    "    for i in range(k):\n",
    "        \n",
    "        listener,producer = choose_pair(population) # choose a pair from the population\n",
    "        \n",
    "        interact(listener,producer)  # make the chosen pair interact\n",
    "        \n",
    "        proportion.append(count(population)) # track the proportion of the vowels in the population during intrtaction\n",
    "    \n",
    "    return population, proportion\n"
   ]
  },
  {
   "cell_type": "code",
   "execution_count": 111,
   "metadata": {},
   "outputs": [
    {
     "name": "stdout",
     "output_type": "stream",
     "text": [
      "Final Population: [['i', 'F'], ['a', 'F'], ['a', 'F'], ['a', 'F'], ['a', 'S'], ['a', 'F'], ['a', 'F'], ['a', 'S'], ['a', 'F'], ['a', 'F'], ['i', 'S'], ['a', 'S'], ['a', 'F'], ['a', 'F'], ['a', 'F'], ['a', 'F'], ['a', 'S'], ['a', 'F'], ['i', 'S'], ['a', 'F']]\n"
     ]
    },
    {
     "data": {
      "text/plain": [
       "Text(0.5, 0, 'Time [No. of interactions]')"
      ]
     },
     "execution_count": 111,
     "metadata": {},
     "output_type": "execute_result"
    },
    {
     "data": {
      "image/png": "[encoded data removed]",
      "text/plain": [
       "<Figure size 432x288 with 1 Axes>"
      ]
     },
     "metadata": {
      "needs_background": "light"
     },
     "output_type": "display_data"
    }
   ],
   "source": [
    "# Simulate 500 interctions between 20 agents \n",
    "new_population, proportion = simulate(20, 500)\n",
    "print(\"Final Population:\", new_population)\n",
    "\n",
    "# Make a plot of the changes in proportion of 'a' over interactions \n",
    "\n",
    "%matplotlib inline \n",
    "#put plot in the notebook\n",
    "import matplotlib.pyplot as plt # importing a plotting library\n",
    "plt.plot(proportion)\n",
    "\n",
    "# and add some details to the plot\n",
    "plt.title('Changes in the proportion of [a] over time')\n",
    "plt.ylabel('Proportion [a] users')\n",
    "plt.xlabel('Time [No. of interactions]')"
   ]
  },
  {
   "cell_type": "code",
   "execution_count": 112,
   "metadata": {},
   "outputs": [],
   "source": [
    "# Create a function that runs s simulations of a community of size N interacting randomly for K times    \n",
    "\n",
    "def batch_simulate(n,k,s):\n",
    "    batch_proportions=[]\n",
    "    for i in range(s):\n",
    "        new_population, proportion = simulate(n, k)\n",
    "        batch_proportions.append(proportion)\n",
    "    return batch_proportions"
   ]
  },
  {
   "cell_type": "code",
   "execution_count": null,
   "metadata": {},
   "outputs": [],
   "source": []
  }
 ],
 "metadata": {
  "kernelspec": {
   "display_name": "Python 3",
   "language": "python",
   "name": "python3"
  },
  "language_info": {
   "codemirror_mode": {
    "name": "ipython",
    "version": 3
   },
   "file_extension": ".py",
   "mimetype": "text/x-python",
   "name": "python",
   "nbconvert_exporter": "python",
   "pygments_lexer": "ipython3",
   "version": "3.7.0"
  }
 },
 "nbformat": 4,
 "nbformat_minor": 2
}
