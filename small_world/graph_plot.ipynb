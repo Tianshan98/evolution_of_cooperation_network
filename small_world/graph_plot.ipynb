{
 "cells": [
  {
   "cell_type": "code",
   "execution_count": 2,
   "metadata": {},
   "outputs": [],
   "source": [
    "import numpy as np\n",
    "import matplotlib.pyplot as plt\n"
   ]
  },
  {
   "cell_type": "code",
   "execution_count": 6,
   "metadata": {},
   "outputs": [],
   "source": [
    "# Data\n",
    "first = np.array([0.137, 0.175, 0.179, 0.2565, 0.248, 0.1325, 0.19, 0.221, 0.165, 0.141, 0.134, 0.212, 0.1835, 0.1605, 0.185, 0.182, 0.204, 0.2025, 0.2125, 0.226])\n",
    "third = np.array([0.416, 0.442, 0.41, 0.446, 0.456, 0.444, 0.390, 0.3935, 0.415, 0.444, 0.4215, 0.405, 0.3845, 0.456, 0.4245, 0.3755, 0.406, 0.382, 0.351, 0.4725])\n",
    "fifth = np.array([0.452, 0.5, 0.487, 0.4995, 0.49, 0.465, 0.4925, 0.4995, 0.4675, 0.4615, 0.49, 0.507, 0.454, 0.465, 0.4435, 0.4265, 0.449, 0.43, 0.5225, 0.4495])\n",
    "seventh = np.array([0.513, 0.495, 0.4945, 0.468, 0.4815, 0.4885, 0.4845, 0.4695, 0.496, 0.476, 0.5005, 0.525, 0.489, 0.5015, 0.446, 0.51, 0.477, 0.4795, 0.482, 0.516])\n",
    "ninth = np.array([0.4835, 0.5095, 0.4835, 0.48, 0.471, 0.504, 0.493, 0.518, 0.493, 0.481, 0.4895, 0.481, 0.491, 0.487, 0.5175, 0.4945, 0.505, 0.4895, 0.4865, 0.501])\n",
    "\n",
    "# Calculate the average\n",
    "first_mean = np.mean(first)\n",
    "third_mean = np.mean(third)\n",
    "fifth_mean = np.mean(fifth)\n",
    "seventh_mean = np.mean(seventh)\n",
    "ninth_mean = np.mean(ninth)\n",
    "\n",
    "\n",
    "# Calculate the standard deviation\n",
    "first_std = np.std(first)\n",
    "third_std = np.std(third)\n",
    "fifth_std = np.std(fifth)\n",
    "seventh_std = np.std(seventh)\n",
    "ninth_std = np.std(ninth)\n",
    "\n",
    "\n",
    "# Define labels, positions, bar heights and error bar heights\n",
    "labels = ['0.1', '0.3', '0.5', '0.7', '0.9']\n",
    "x_pos = np.arange(len(labels))\n",
    "CTEs = [first_mean, third_mean, fifth_mean, seventh_mean, ninth_mean]\n",
    "error = [first_std, third_std, fifth_std, seventh_std, ninth_std]\n"
   ]
  },
  {
   "cell_type": "code",
   "execution_count": 7,
   "metadata": {},
   "outputs": [
    {
     "data": {
      "image/png": "[encoded data removed]",
      "text/plain": [
       "<Figure size 432x288 with 1 Axes>"
      ]
     },
     "metadata": {
      "needs_background": "light"
     },
     "output_type": "display_data"
    }
   ],
   "source": [
    "# Build the plot\n",
    "fig, ax = plt.subplots()\n",
    "ax.bar(x_pos, CTEs,\n",
    "       yerr=error,\n",
    "       align='center',\n",
    "       alpha=0.5,\n",
    "       ecolor='black',\n",
    "       capsize=10)\n",
    "ax.set_ylabel('proportion of cooperation')\n",
    "ax.set_xticks(x_pos)\n",
    "ax.set_xticklabels(labels)\n",
    "ax.set_xlabel('probability of rewiring each edge')\n",
    "ax.set_title('Copy the Best')\n",
    "ax.yaxis.grid(True)\n",
    "\n",
    "# Save the figure and show\n",
    "plt.tight_layout()\n",
    "plt.savefig('bar_plot_with_error_bars.png')\n",
    "plt.show()\n"
   ]
  },
  {
   "cell_type": "code",
   "execution_count": null,
   "metadata": {},
   "outputs": [],
   "source": []
  }
 ],
 "metadata": {
  "kernelspec": {
   "display_name": "Python 3",
   "language": "python",
   "name": "python3"
  },
  "language_info": {
   "codemirror_mode": {
    "name": "ipython",
    "version": 3
   },
   "file_extension": ".py",
   "mimetype": "text/x-python",
   "name": "python",
   "nbconvert_exporter": "python",
   "pygments_lexer": "ipython3",
   "version": "3.7.0"
  }
 },
 "nbformat": 4,
 "nbformat_minor": 2
}
